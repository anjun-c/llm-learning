{
 "cells": [
  {
   "cell_type": "code",
   "execution_count": 1,
   "metadata": {},
   "outputs": [
    {
     "name": "stderr",
     "output_type": "stream",
     "text": [
      "c:\\Users\\adria\\anaconda3\\envs\\llm_env\\Lib\\site-packages\\tqdm\\auto.py:21: TqdmWarning: IProgress not found. Please update jupyter and ipywidgets. See https://ipywidgets.readthedocs.io/en/stable/user_install.html\n",
      "  from .autonotebook import tqdm as notebook_tqdm\n"
     ]
    }
   ],
   "source": [
    "from llama_index.core import VectorStoreIndex, SimpleDirectoryReader, Settings\n",
    "from llama_index.embeddings.huggingface import HuggingFaceEmbedding\n",
    "from llama_index.llms.ollama import Ollama"
   ]
  },
  {
   "cell_type": "code",
   "execution_count": 2,
   "metadata": {},
   "outputs": [
    {
     "name": "stdout",
     "output_type": "stream",
     "text": [
      "Current Working Directory: c:\\Users\\adria\\Documents\\VSCode\\github\\llm-learning\n"
     ]
    }
   ],
   "source": [
    "import os\n",
    "print(\"Current Working Directory:\", os.getcwd())"
   ]
  },
  {
   "cell_type": "code",
   "execution_count": 3,
   "metadata": {},
   "outputs": [],
   "source": [
    "documents = SimpleDirectoryReader(\"data\").load_data()\n",
    "\n",
    "# bge-base embedding model\n",
    "Settings.embed_model = HuggingFaceEmbedding(model_name=\"BAAI/bge-base-en-v1.5\")\n",
    "\n",
    "# ollama\n",
    "Settings.llm = Ollama(model=\"deepseek-r1:8b\", request_timeout=360.0)\n",
    "\n",
    "index = VectorStoreIndex.from_documents(\n",
    "    documents,\n",
    ")"
   ]
  },
  {
   "cell_type": "code",
   "execution_count": 4,
   "metadata": {},
   "outputs": [
    {
     "name": "stdout",
     "output_type": "stream",
     "text": [
      "<think>\n",
      "Okay, so I need to figure out what the author did growing up based on the provided context. Let me read through the context carefully.\n",
      "\n",
      "Starting from February 2021, the author mentions they worked on two main things outside of school: writing and programming. They wrote short stories as a teenager, which they admit were awful because they lacked plot but had characters with strong emotions. So that's part of their early activities.\n",
      "\n",
      "Then, in high school (around 9th grade), they got involved with an IBM 1401 computer in the basement of their junior high. They and a friend used this for data processing. The language they learned was an early version of Fortran, which required punch cards. They tried to do simple tasks but couldn't really get much done since they didn't have data on punch cards. However, they remember learning that programs could run indefinitely without stopping, which was a mistake back then because the computer couldn't handle it.\n",
      "\n",
      "Moving forward, when microcomputers became available in the 1980s, they got more excited. Their friend built their own Heathkit computer, and the author eventually convinced their father to buy a TRS-80. This is where they started programming seriously, writing games, a rocket flight predictor, and a word processor for their dad.\n",
      "\n",
      "Before college, they didn't plan to study programming but ended up switching from philosophy to AI in college after finding philosophy uninteresting in school. They were drawn to AI due to influences like a book by Heinlein and a documentary featuring Terry Winograd using SHRDLU.\n",
      "\n",
      "So putting this together, the author grew up writing stories and programming on early computers, which laid the groundwork for their later career in AI.\n",
      "</think>\n",
      "\n",
      "The author grew up engaging in writing and programming activities. As a teenager, they wrote short stories, though they acknowledged them to be lacking in plot but rich in emotional depth. During high school, they worked with an IBM 1401 computer, learning early programming skills using Fortran through punch cards. Their interest in technology grew when microcomputers became available, leading them to build their own systems and pursue serious programming, eventually transitioning into AI as a career after college.\n"
     ]
    }
   ],
   "source": [
    "query_engine = index.as_query_engine()\n",
    "response = query_engine.query(\"What did the author do growing up?\")\n",
    "print(response)"
   ]
  }
 ],
 "metadata": {
  "kernelspec": {
   "display_name": "llm_env",
   "language": "python",
   "name": "python3"
  },
  "language_info": {
   "codemirror_mode": {
    "name": "ipython",
    "version": 3
   },
   "file_extension": ".py",
   "mimetype": "text/x-python",
   "name": "python",
   "nbconvert_exporter": "python",
   "pygments_lexer": "ipython3",
   "version": "3.13.2"
  }
 },
 "nbformat": 4,
 "nbformat_minor": 2
}
